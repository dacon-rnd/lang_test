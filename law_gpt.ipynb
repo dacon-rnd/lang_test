{
 "cells": [
  {
   "cell_type": "code",
   "execution_count": 29,
   "id": "initial_id",
   "metadata": {
    "collapsed": true,
    "ExecuteTime": {
     "end_time": "2024-03-07T12:20:00.021401Z",
     "start_time": "2024-03-07T12:20:00.014248Z"
    }
   },
   "outputs": [
    {
     "data": {
      "text/plain": "True"
     },
     "execution_count": 29,
     "metadata": {},
     "output_type": "execute_result"
    }
   ],
   "source": [
    "# API 키를 환경변수로 관리하기 위한 설정 파일\n",
    "from dotenv import load_dotenv\n",
    "\n",
    "# API 키 정보 로드\n",
    "load_dotenv()"
   ]
  },
  {
   "cell_type": "markdown",
   "source": [
    "# 문서 로드(Load Documents)"
   ],
   "metadata": {
    "collapsed": false
   },
   "id": "20d07285c7069bdf"
  },
  {
   "cell_type": "code",
   "outputs": [],
   "source": [
    "from langchain import hub\n",
    "from langchain.text_splitter import RecursiveCharacterTextSplitter\n",
    "from langchain_community.document_loaders import WebBaseLoader\n",
    "from langchain_community.vectorstores import Chroma, FAISS\n",
    "from langchain_core.output_parsers import StrOutputParser\n",
    "from langchain_core.runnables import RunnablePassthrough\n",
    "from langchain_openai import ChatOpenAI"
   ],
   "metadata": {
    "collapsed": false,
    "ExecuteTime": {
     "end_time": "2024-03-07T12:20:00.099452Z",
     "start_time": "2024-03-07T12:20:00.086722Z"
    }
   },
   "id": "65b4167d1db9adee",
   "execution_count": 30
  },
  {
   "cell_type": "code",
   "outputs": [],
   "source": [
    "# from langchain_community.document_loaders import DirectoryLoader\n",
    "# \n",
    "# loader = DirectoryLoader(\".\", glob=\"data/*.pdf\", show_progress=True)\n",
    "# docs = loader.load()"
   ],
   "metadata": {
    "collapsed": false,
    "ExecuteTime": {
     "end_time": "2024-03-07T12:20:00.114974Z",
     "start_time": "2024-03-07T12:20:00.100567Z"
    }
   },
   "id": "44133f8f02f1b92c",
   "execution_count": 31
  },
  {
   "cell_type": "code",
   "outputs": [],
   "source": [
    "from langchain.document_loaders import PyPDFLoader\n",
    "\n",
    "# PDF 파일 로드. 파일의 경로 입력\n",
    "loader = PyPDFLoader(\"data/개인정보 보호법(법률)(제19234호)(20240315).pdf\")\n",
    "\n",
    "# 페이지 별 문서 로드\n",
    "docs = loader.load_and_split()"
   ],
   "metadata": {
    "collapsed": false,
    "ExecuteTime": {
     "end_time": "2024-03-07T12:20:00.693980Z",
     "start_time": "2024-03-07T12:20:00.117158Z"
    }
   },
   "id": "b527f7f308947fc2",
   "execution_count": 32
  },
  {
   "cell_type": "code",
   "outputs": [
    {
     "name": "stdout",
     "output_type": "stream",
     "text": [
      "문서의 수: 41\n",
      "\n",
      "[메타데이터]\n",
      "\n",
      "{'source': 'data/개인정보 보호법(법률)(제19234호)(20240315).pdf', 'page': 0}\n",
      "\n",
      "========= [앞부분] 미리보기 =========\n",
      "\n"
     ]
    }
   ],
   "source": [
    "print(f\"문서의 수: {len(docs)}\\n\")\n",
    "print(\"[메타데이터]\\n\")\n",
    "print(docs[0].metadata)\n",
    "print(\"\\n========= [앞부분] 미리보기 =========\\n\")\n",
    "print(docs[0].page_content[2500:2600])"
   ],
   "metadata": {
    "collapsed": false,
    "ExecuteTime": {
     "end_time": "2024-03-07T12:20:00.709394Z",
     "start_time": "2024-03-07T12:20:00.696157Z"
    }
   },
   "id": "fa35b595766dd7e1",
   "execution_count": 33
  },
  {
   "cell_type": "markdown",
   "source": [
    "# 문서 분할(Split Documents)"
   ],
   "metadata": {
    "collapsed": false
   },
   "id": "2a011f5632f68a45"
  },
  {
   "cell_type": "code",
   "outputs": [],
   "source": [
    "# langchain 패키지에서 RecursiveCharacterTextSplitter 클래스를 가져옵니다.\n",
    "from langchain.text_splitter import RecursiveCharacterTextSplitter\n",
    "\n",
    "recursive_text_splitter = RecursiveCharacterTextSplitter(\n",
    "    # 정말 작은 청크 크기를 설정합니다.\n",
    "    chunk_size=500,\n",
    "    chunk_overlap=20,\n",
    "    length_function=len,\n",
    "    is_separator_regex=False,\n",
    ")"
   ],
   "metadata": {
    "collapsed": false,
    "ExecuteTime": {
     "end_time": "2024-03-07T12:20:00.724694Z",
     "start_time": "2024-03-07T12:20:00.711290Z"
    }
   },
   "id": "e16d861eae190dfc",
   "execution_count": 34
  },
  {
   "cell_type": "code",
   "outputs": [
    {
     "data": {
      "text/plain": "193"
     },
     "execution_count": 35,
     "metadata": {},
     "output_type": "execute_result"
    }
   ],
   "source": [
    "splits = recursive_text_splitter.split_documents(docs)\n",
    "len(splits)"
   ],
   "metadata": {
    "collapsed": false,
    "ExecuteTime": {
     "end_time": "2024-03-07T12:20:00.740560Z",
     "start_time": "2024-03-07T12:20:00.728018Z"
    }
   },
   "id": "b77864039f2ee274",
   "execution_count": 35
  },
  {
   "cell_type": "markdown",
   "source": [
    "# 임베딩(Embedding) & 벡터DB(VectorStore)\n",
    "* 임베딩\n",
    "    - 문서를 벡터 표현으로 변환\n",
    "* 벡터DB\n",
    "    - 변환된 벡터를 DB에 저장"
   ],
   "metadata": {
    "collapsed": false
   },
   "id": "fe2355aeddb737b3"
  },
  {
   "cell_type": "code",
   "outputs": [],
   "source": [
    "# from langchain_community.embeddings import FastEmbedEmbeddings\n",
    "# \n",
    "# embeddings_model = FastEmbedEmbeddings()"
   ],
   "metadata": {
    "collapsed": false,
    "ExecuteTime": {
     "end_time": "2024-03-07T12:20:00.755751Z",
     "start_time": "2024-03-07T12:20:00.741646Z"
    }
   },
   "id": "fda2fc49a2d6eb47",
   "execution_count": 36
  },
  {
   "cell_type": "code",
   "outputs": [],
   "source": [
    "from langchain_community.embeddings import OpenAIEmbeddings\n",
    "\n",
    "embeddings_model = OpenAIEmbeddings()"
   ],
   "metadata": {
    "collapsed": false,
    "ExecuteTime": {
     "end_time": "2024-03-07T12:20:00.787113Z",
     "start_time": "2024-03-07T12:20:00.758081Z"
    }
   },
   "id": "4c78065dc0320095",
   "execution_count": 37
  },
  {
   "cell_type": "code",
   "outputs": [],
   "source": [
    "# from langchain_community.embeddings import HuggingFaceEmbeddings\n",
    "# \n",
    "# embeddings_model = HuggingFaceEmbeddings(model_name=\"intfloat/multilingual-e5-large\")"
   ],
   "metadata": {
    "collapsed": false,
    "ExecuteTime": {
     "end_time": "2024-03-07T12:20:00.802388Z",
     "start_time": "2024-03-07T12:20:00.788174Z"
    }
   },
   "id": "1e65e3d4d5bfb81f",
   "execution_count": 38
  },
  {
   "cell_type": "code",
   "outputs": [],
   "source": [
    "from langchain_community.vectorstores import Chroma\n",
    "\n",
    "# Chroma DB 적용\n",
    "vectorstore = Chroma.from_documents(documents=splits, embedding=embeddings_model)"
   ],
   "metadata": {
    "collapsed": false,
    "ExecuteTime": {
     "end_time": "2024-03-07T12:20:06.350244Z",
     "start_time": "2024-03-07T12:20:00.803524Z"
    }
   },
   "id": "edb4e8319150efa2",
   "execution_count": 39
  },
  {
   "cell_type": "markdown",
   "source": [
    "# Retriever\n",
    "* 쿼리가 주어지면 문서를 반환하는 인터페이스"
   ],
   "metadata": {
    "collapsed": false
   },
   "id": "c03ecf11c05bd086"
  },
  {
   "cell_type": "code",
   "outputs": [],
   "source": [
    "retriever = vectorstore.as_retriever()"
   ],
   "metadata": {
    "collapsed": false,
    "ExecuteTime": {
     "end_time": "2024-03-07T12:20:06.365404Z",
     "start_time": "2024-03-07T12:20:06.352606Z"
    }
   },
   "id": "16e41d85ade3462f",
   "execution_count": 40
  },
  {
   "cell_type": "code",
   "outputs": [
    {
     "name": "stdout",
     "output_type": "stream",
     "text": [
      "[Document(page_content='우에는 다음 각 호의 내용이 포함된 문서로 하여야 한다. <개정 2023. 3. 14.>\\n1. 위탁업무 수행 목적 외 개인정보의 처리 금지에 관한 사항\\n2. 개인정보의 기술적ㆍ관리적 보호조치에 관한 사항\\n3. 그 밖에 개인정보의 안전한 관리를 위하여 대통령령으로 정한 사항', metadata={'page': 12, 'source': 'data/개인정보 보호법(법률)(제19234호)(20240315).pdf'}), Document(page_content='우에는 다음 각 호의 내용이 포함된 문서로 하여야 한다. <개정 2023. 3. 14.>\\n1. 위탁업무 수행 목적 외 개인정보의 처리 금지에 관한 사항\\n2. 개인정보의 기술적ㆍ관리적 보호조치에 관한 사항\\n3. 그 밖에 개인정보의 안전한 관리를 위하여 대통령령으로 정한 사항', metadata={'page': 12, 'source': 'data/개인정보 보호법(법률)(제19234호)(20240315).pdf'}), Document(page_content='14.>\\n1. 제8조의2에 따른 개인정보 침해요인 평가에 관한 사항\\n2. 제9조에 따른 기본계획 및 제10조에 따른 시행계획에 관한 사항\\n3. 개인정보 보호와 관련된 정책, 제도 및 법령의 개선에 관한 사항\\n4. 개인정보의 처리에 관한 공공기관 간의 의견조정에 관한 사항\\n5. 개인정보 보호에 관한 법령의 해석ㆍ운용에 관한 사항\\n6. 제18조제2항제5호에 따른 개인정보의 이용ㆍ제공에 관한 사항', metadata={'page': 3, 'source': 'data/개인정보 보호법(법률)(제19234호)(20240315).pdf'}), Document(page_content='14.>\\n1. 제8조의2에 따른 개인정보 침해요인 평가에 관한 사항\\n2. 제9조에 따른 기본계획 및 제10조에 따른 시행계획에 관한 사항\\n3. 개인정보 보호와 관련된 정책, 제도 및 법령의 개선에 관한 사항\\n4. 개인정보의 처리에 관한 공공기관 간의 의견조정에 관한 사항\\n5. 개인정보 보호에 관한 법령의 해석ㆍ운용에 관한 사항\\n6. 제18조제2항제5호에 따른 개인정보의 이용ㆍ제공에 관한 사항', metadata={'page': 3, 'source': 'data/개인정보 보호법(법률)(제19234호)(20240315).pdf'})]\n"
     ]
    }
   ],
   "source": [
    "# query = \"공공데이터법의 목적을 요약해줘\"\n",
    "# search_result = retriever.get_relevant_documents(query)\n",
    "# print(search_result)"
   ],
   "metadata": {
    "collapsed": false,
    "ExecuteTime": {
     "end_time": "2024-03-07T12:20:06.623286Z",
     "start_time": "2024-03-07T12:20:06.368596Z"
    }
   },
   "id": "6b2eead48ed04be6",
   "execution_count": 41
  },
  {
   "cell_type": "markdown",
   "source": [
    "# 프롬프트\n",
    "* 프롬프트 엔지니어링\n",
    "    - 주어진 데이터(context)를 토대로 우리가 원하는 결과를 도출할 때 중요한 역할을 함"
   ],
   "metadata": {
    "collapsed": false
   },
   "id": "216f86e615d0ff95"
  },
  {
   "cell_type": "code",
   "outputs": [
    {
     "data": {
      "text/plain": "ChatPromptTemplate(input_variables=['context', 'question'], messages=[HumanMessagePromptTemplate(prompt=PromptTemplate(input_variables=['context', 'question'], template=\"You are an assistant for question-answering tasks. Use the following pieces of retrieved context to answer the question. If you don't know the answer, just say that you don't know. Use three sentences maximum and keep the answer concise.\\nQuestion: {question} \\nContext: {context} \\nAnswer:\"))])"
     },
     "execution_count": 42,
     "metadata": {},
     "output_type": "execute_result"
    }
   ],
   "source": [
    "from langchain import hub\n",
    "\n",
    "prompt = hub.pull(\"rlm/rag-prompt\")\n",
    "prompt"
   ],
   "metadata": {
    "collapsed": false,
    "ExecuteTime": {
     "end_time": "2024-03-07T12:20:08.866971Z",
     "start_time": "2024-03-07T12:20:06.625360Z"
    }
   },
   "id": "c2e70955c6a65e39",
   "execution_count": 42
  },
  {
   "cell_type": "markdown",
   "source": [
    "# 언어모델 생성(Create LLM)"
   ],
   "metadata": {
    "collapsed": false
   },
   "id": "233b7397751af9f8"
  },
  {
   "cell_type": "code",
   "outputs": [],
   "source": [
    "from langchain_openai import ChatOpenAI\n",
    "\n",
    "llm = ChatOpenAI(temperature=0, model=\"gpt-3.5-turbo-0125\")"
   ],
   "metadata": {
    "collapsed": false,
    "ExecuteTime": {
     "end_time": "2024-03-07T12:20:08.898669Z",
     "start_time": "2024-03-07T12:20:08.868280Z"
    }
   },
   "id": "b079a1ccd1c3ecdb",
   "execution_count": 43
  },
  {
   "cell_type": "code",
   "outputs": [],
   "source": [
    "def format_docs(docs):\n",
    "    # 검색한 문서 결과를 하나의 문단으로 합쳐줍니다.\n",
    "    return \"\\n\\n\".join(doc.page_content for doc in docs)"
   ],
   "metadata": {
    "collapsed": false,
    "ExecuteTime": {
     "end_time": "2024-03-07T12:20:08.914505Z",
     "start_time": "2024-03-07T12:20:08.900915Z"
    }
   },
   "id": "59d36854b97f0b09",
   "execution_count": 44
  },
  {
   "cell_type": "code",
   "outputs": [],
   "source": [
    "rag_chain = (\n",
    "    {\"context\": retriever | format_docs, \"question\": RunnablePassthrough()}\n",
    "    | prompt\n",
    "    | llm\n",
    "    | StrOutputParser()\n",
    ")"
   ],
   "metadata": {
    "collapsed": false,
    "ExecuteTime": {
     "end_time": "2024-03-07T12:20:08.930345Z",
     "start_time": "2024-03-07T12:20:08.916646Z"
    }
   },
   "id": "56cfbf5dc9e7f12d",
   "execution_count": 45
  },
  {
   "cell_type": "code",
   "outputs": [],
   "source": [
    "# 단계 8: 체인 실행(Run Chain)\n",
    "# 문서에 대한 질의를 입력하고, 답변을 출력합니다.\n",
    "question = \"\"\n",
    "response = rag_chain.invoke(question)"
   ],
   "metadata": {
    "collapsed": false,
    "ExecuteTime": {
     "end_time": "2024-03-07T12:21:40.896822Z",
     "start_time": "2024-03-07T12:21:37.912350Z"
    }
   },
   "id": "8a2025ffa03ed455",
   "execution_count": 52
  },
  {
   "cell_type": "code",
   "outputs": [
    {
     "name": "stdout",
     "output_type": "stream",
     "text": [
      "[HUMAN]\n",
      "이 문서는 개인정보 보호에 대한 문서인 5줄로 요약해줘.\n",
      "\n",
      "[AI]\n",
      "이 문서는 개인정보 보호법에 따라 위탁업무 수행 목적 외 개인정보 처리 금지, 기술적ㆍ관리적 보호조치, 대통령령으로 정한 안전한 관리 사항을 포함하고 있다.\n"
     ]
    }
   ],
   "source": [
    "print(f\"[HUMAN]\\n{question}\\n\")\n",
    "print(f\"[AI]\\n{response}\")"
   ],
   "metadata": {
    "collapsed": false,
    "ExecuteTime": {
     "end_time": "2024-03-07T12:21:40.912260Z",
     "start_time": "2024-03-07T12:21:40.900196Z"
    }
   },
   "id": "dfc5e62c50007619",
   "execution_count": 53
  },
  {
   "cell_type": "code",
   "outputs": [],
   "source": [],
   "metadata": {
    "collapsed": false,
    "ExecuteTime": {
     "end_time": "2024-03-07T12:20:11.927680Z",
     "start_time": "2024-03-07T12:20:11.915080Z"
    }
   },
   "id": "3933f6ba36a40ed7",
   "execution_count": 47
  },
  {
   "cell_type": "code",
   "outputs": [],
   "source": [],
   "metadata": {
    "collapsed": false,
    "ExecuteTime": {
     "end_time": "2024-03-07T12:20:11.942713Z",
     "start_time": "2024-03-07T12:20:11.928809Z"
    }
   },
   "id": "ccf306ecbb9de296",
   "execution_count": 47
  },
  {
   "cell_type": "code",
   "outputs": [],
   "source": [],
   "metadata": {
    "collapsed": false,
    "ExecuteTime": {
     "end_time": "2024-03-07T12:20:11.957989Z",
     "start_time": "2024-03-07T12:20:11.944900Z"
    }
   },
   "id": "ecfdfc215f6c6ff2",
   "execution_count": 47
  }
 ],
 "metadata": {
  "kernelspec": {
   "display_name": "Python 3",
   "language": "python",
   "name": "python3"
  },
  "language_info": {
   "codemirror_mode": {
    "name": "ipython",
    "version": 2
   },
   "file_extension": ".py",
   "mimetype": "text/x-python",
   "name": "python",
   "nbconvert_exporter": "python",
   "pygments_lexer": "ipython2",
   "version": "2.7.6"
  }
 },
 "nbformat": 4,
 "nbformat_minor": 5
}
